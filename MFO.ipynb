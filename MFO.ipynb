{
 "cells": [
  {
   "cell_type": "markdown",
   "metadata": {
    "colab_type": "text",
    "id": "i3XZjfx_DVlM"
   },
   "source": [
    "# Moth-Flame Optimization Algorithm"
   ]
  },
  {
   "cell_type": "code",
   "execution_count": 0,
   "metadata": {
    "colab": {},
    "colab_type": "code",
    "id": "wQPVkHnPDFWc"
   },
   "outputs": [],
   "source": [
    "import numpy as np\n",
    "import matplotlib.pyplot as plt\n",
    "\n",
    "%matplotlib inline"
   ]
  },
  {
   "cell_type": "markdown",
   "metadata": {
    "colab_type": "text",
    "id": "T1pc27Q1DeWA"
   },
   "source": [
    "Define the main function that optimizes a given function"
   ]
  },
  {
   "cell_type": "code",
   "execution_count": 0,
   "metadata": {
    "colab": {},
    "colab_type": "code",
    "id": "1_RVGmADDi3n"
   },
   "outputs": [],
   "source": [
    "def MFO(nsa, dim, ub, lb, max_iter, fobj):\n",
    "  ''' Main function\n",
    "  Parameters :\n",
    "  - nsa : Number of Search Agents\n",
    "  - dim : Dimension of Search Space\n",
    "  - ub : Upper Bound\n",
    "  - lb : Lower Bound\n",
    "  - max_iter : Number of Iterations\n",
    "  - fobj : Objective Function (Fitness Function)\n",
    "  Returns :\n",
    "  - bFlameScore : Best Flame Score\n",
    "  - bFlamePos : Best Flame Position\n",
    "  - ConvergenceCurve : Evolution of the best Flame Score on every iteration\n",
    "  '''\n",
    "\n",
    "  # Initialize the positions of moths\n",
    "  mothPos = np.random.uniform(low=lb, high=ub, size=(nsa, dim))\n",
    "\n",
    "  convergenceCurve = np.zeros(shape=(max_iter))\n",
    "\n",
    "  # print(\"Optimizing  \\\"\" + fobj.__name__ + \"\\\"\")\n",
    "\n",
    "  for iteration in range(max_iter):  # Main loop\n",
    "    # Number of flames Eq. (3.14) in the paper\n",
    "    flameNo = int(np.ceil(nsa-(iteration+1)*((nsa-1)/max_iter)))\n",
    "\n",
    "    # Check if moths go out of the search space and bring them back\n",
    "    mothPos = np.clip(mothPos, lb, ub)\n",
    "\n",
    "    # Calculate the fitness of moths\n",
    "    mothFit = fobj(mothPos)\n",
    "\n",
    "    if iteration == 0:\n",
    "      # Sort the first population of moths\n",
    "      order = mothFit.argsort()\n",
    "      mothFit = mothFit[order]\n",
    "      mothPos = mothPos[order, :]\n",
    "\n",
    "      # Update the flames\n",
    "      bFlames = np.copy(mothPos)\n",
    "      bFlamesFit = np.copy(mothFit)\n",
    "\n",
    "    else:\n",
    "      # Sort the moths\n",
    "      doublePop = np.vstack((bFlames, mothPos))\n",
    "      doubleFit = np.hstack((bFlamesFit, mothFit))\n",
    "\n",
    "      order = doubleFit.argsort()\n",
    "      doubleFit = doubleFit[order]\n",
    "      doublePop = doublePop[order, :]\n",
    "\n",
    "      # Update the flames\n",
    "      bFlames = doublePop[:nsa, :]\n",
    "      bFlamesFit = doubleFit[:nsa]\n",
    "\n",
    "    # Update the position best flame obtained so far\n",
    "    bFlameScore = bFlamesFit[0]\n",
    "    bFlamesPos = bFlames[0, :]\n",
    "\n",
    "    # a linearly dicreases from -1 to -2 to calculate t in Eq. (3.12)\n",
    "    a = -1 + (iteration+1) * ((-1)/max_iter)\n",
    "\n",
    "    # D in Eq. (3.13)\n",
    "    distanceToFlames = np.abs(bFlames - mothPos)\n",
    "\n",
    "    b = 1\n",
    "    t = (a-1)*np.random.rand(nsa, dim) + 1\n",
    "    ''' Update the position of the moth with respect to its corresponding\n",
    "    flame if the moth position is less than the number of flames\n",
    "    calculated, otherwise update the position of the moth with respect\n",
    "    to the last flame '''\n",
    "    temp1 = bFlames[:flameNo, :]\n",
    "    temp2 = bFlames[flameNo-1, :]*np.ones(shape=(nsa-flameNo, dim))\n",
    "    temp2 = np.vstack((temp1, temp2))\n",
    "    mothPos = distanceToFlames*np.exp(b*t)*np.cos(t*2*np.pi) + temp2\n",
    "\n",
    "    convergenceCurve[iteration] = bFlameScore\n",
    "\n",
    "  return bFlameScore, bFlamesPos, convergenceCurve"
   ]
  },
  {
   "cell_type": "markdown",
   "metadata": {
    "colab_type": "text",
    "id": "xyCxBbPHFdg_"
   },
   "source": [
    "Defining the objective function"
   ]
  },
  {
   "cell_type": "code",
   "execution_count": 0,
   "metadata": {
    "colab": {},
    "colab_type": "code",
    "id": "5Z0OYSdiFjv-"
   },
   "outputs": [],
   "source": [
    "def F1(x):\n",
    "  ''' F1 function as defined in the paper for the test '''\n",
    "  return np.sum(np.power(x, 2), axis=1)\n",
    "\n",
    "\n",
    "def F2(x):\n",
    "  ''' F2 function as defined in the paper for the test '''\n",
    "  return np.sum(np.abs(x), axis=1) + np.prod(np.abs(x), axis=1)\n",
    "\n",
    "\n",
    "def F3(x):\n",
    "  o = 0\n",
    "  for i in range(x.shape[1]):\n",
    "    o += np.power(np.sum(x[:, :i], axis=1), 2)\n",
    "  return o\n",
    "\n",
    "\n",
    "def F6(x):\n",
    "  return np.sum(np.power(np.abs(x+0.5),2), axis=1)\n",
    "\n",
    "\n",
    "def F7(x):\n",
    "  n = np.arange(1, x.shape[1]+1, 1)\n",
    "  return np.sum(n*np.power(x, 4), axis=1) + np.random.rand(x.shape[0])  "
   ]
  },
  {
   "cell_type": "markdown",
   "metadata": {
    "colab_type": "text",
    "id": "FC7aRdAoGN45"
   },
   "source": [
    "Testing the optimization function"
   ]
  },
  {
   "cell_type": "code",
   "execution_count": 9,
   "metadata": {
    "colab": {
     "base_uri": "https://localhost:8080/",
     "height": 345
    },
    "colab_type": "code",
    "id": "SbSMRF-kGQ1q",
    "outputId": "3d277d1f-037d-4d7e-97fe-56a12f996f0a"
   },
   "outputs": [
    {
     "name": "stdout",
     "output_type": "stream",
     "text": [
      "2.7900066233711506e-40\n",
      "[-1.50925679e-21  7.65344777e-21 -1.95006578e-21 -1.35617143e-22\n",
      " -2.68005653e-21  1.30856076e-21  4.95774052e-22  9.37747069e-22\n",
      "  1.41567920e-20  1.97267340e-21]\n"
     ]
    },
    {
     "data": {
      "image/png": "[encoded data removed]",
      "text/plain": [
       "<Figure size 432x288 with 1 Axes>"
      ]
     },
     "metadata": {
      "tags": []
     },
     "output_type": "display_data"
    }
   ],
   "source": [
    "nsa = 30\n",
    "max_iter = 1000\n",
    "\n",
    "lb = -100\n",
    "ub = 100\n",
    "dim = 10\n",
    "\n",
    "bFlameScore, bFlamesPos, convergenceCurve = MFO(nsa, dim, ub, lb, max_iter, F1)\n",
    "\n",
    "print(bFlameScore)\n",
    "print(bFlamesPos)\n",
    "x = np.arange(0, max_iter, 1)\n",
    "plt.plot(x, convergenceCurve)\n",
    "plt.show()"
   ]
  },
  {
   "cell_type": "markdown",
   "metadata": {
    "colab_type": "text",
    "id": "RoI88aufiITU"
   },
   "source": [
    "Testing the algorithm a number of times and print the mean and standard deviation of the results"
   ]
  },
  {
   "cell_type": "code",
   "execution_count": 8,
   "metadata": {
    "colab": {
     "base_uri": "https://localhost:8080/",
     "height": 55
    },
    "colab_type": "code",
    "id": "hhG--3z3gsiY",
    "outputId": "b8f9e622-977f-4f83-ff18-edcf32a45ca9"
   },
   "outputs": [
    {
     "name": "stdout",
     "output_type": "stream",
     "text": [
      "Mean : 1.5366157412432626e-36\n",
      "Standard deviation : 4.5445475265209936e-36\n"
     ]
    }
   ],
   "source": [
    "nsa = 30\n",
    "max_iter = 1000\n",
    "\n",
    "lb = -100\n",
    "ub = 100\n",
    "dim = 10\n",
    "\n",
    "bFlameScore = np.zeros(10)\n",
    "\n",
    "for i in range(10):\n",
    "  bFlameScore[i], _, _ = MFO(nsa, dim, ub, lb, max_iter, F1)\n",
    "  \n",
    "print('Mean :', np.mean(bFlameScore))\n",
    "print('Standard deviation :', np.std(bFlameScore))"
   ]
  }
 ],
 "metadata": {
  "colab": {
   "collapsed_sections": [],
   "name": "MFO.ipynb",
   "provenance": [],
   "version": "0.3.2"
  },
  "kernelspec": {
   "display_name": "Python 3",
   "language": "python",
   "name": "python3"
  },
  "language_info": {
   "codemirror_mode": {
    "name": "ipython",
    "version": 3
   },
   "file_extension": ".py",
   "mimetype": "text/x-python",
   "name": "python",
   "nbconvert_exporter": "python",
   "pygments_lexer": "ipython3",
   "version": "3.5.2"
  }
 },
 "nbformat": 4,
 "nbformat_minor": 1
}
