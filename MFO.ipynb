{
  "nbformat": 4,
  "nbformat_minor": 0,
  "metadata": {
    "colab": {
      "name": "MFO.ipynb",
      "version": "0.3.2",
      "provenance": [],
      "collapsed_sections": []
    },
    "kernelspec": {
      "name": "python3",
      "display_name": "Python 3"
    }
  },
  "cells": [
    {
      "metadata": {
        "id": "i3XZjfx_DVlM",
        "colab_type": "text"
      },
      "cell_type": "markdown",
      "source": [
        "# Moth-Flame Optimization Algorithm"
      ]
    },
    {
      "metadata": {
        "id": "wQPVkHnPDFWc",
        "colab_type": "code",
        "colab": {}
      },
      "cell_type": "code",
      "source": [
        "import numpy as np\n",
        "import matplotlib.pyplot as plt"
      ],
      "execution_count": 0,
      "outputs": []
    },
    {
      "metadata": {
        "id": "1sMHQAmJDRRZ",
        "colab_type": "text"
      },
      "cell_type": "markdown",
      "source": [
        "Define the random initialization function"
      ]
    },
    {
      "metadata": {
        "id": "7Ztjga_YDO7c",
        "colab_type": "code",
        "colab": {}
      },
      "cell_type": "code",
      "source": [
        "def initialization(nsa, dim, ub, lb):\n",
        "    ''' This function creates the first random population of moths '''\n",
        "    return np.random.rand(nsa, dim)*(ub-lb) + lb"
      ],
      "execution_count": 0,
      "outputs": []
    },
    {
      "metadata": {
        "id": "T1pc27Q1DeWA",
        "colab_type": "text"
      },
      "cell_type": "markdown",
      "source": [
        "Define the main function that optimizes a given function"
      ]
    },
    {
      "metadata": {
        "id": "1_RVGmADDi3n",
        "colab_type": "code",
        "colab": {}
      },
      "cell_type": "code",
      "source": [
        "def MFO(nsa, dim, ub, lb, max_iter, fobj):\n",
        "  ''' \n",
        "  Main function \n",
        "  Parameters :\n",
        "    - nsa : Number of Search Agents\n",
        "    - dim : Dimension of Search Space\n",
        "    - ub : Upper Bound\n",
        "    - lb : Lower Bound\n",
        "    - max_iter : Number of Iterations\n",
        "    - fobj : Objective Function (Fitness Function)\n",
        "  Returns :\n",
        "    - bFlameScore : Best Flame Score\n",
        "    - bFlamePos : Best Flame Position\n",
        "    - ConvergenceCurve : Evolution of the best Flame Score on every iteration\n",
        "  '''\n",
        "\n",
        "  mothPos = initialization(nsa, dim, ub, lb) # Initialize the positions of moths\n",
        "\n",
        "  convergenceCurve = np.zeros(shape=(max_iter))\n",
        "\n",
        "  previousPop, previousFit, doublePop, doubleFit = None, None, None, None\n",
        "\n",
        "  for iter in range(max_iter): # Main loop\n",
        "    flameNo = np.int(nsa-iter*((nsa-1)/max_iter)) # Number of flames Eq. (3.14) in the paper\n",
        "\n",
        "    # Check if moths go out of the search spaceand bring it back\n",
        "    flag4ub = mothPos > ub\n",
        "    flag4lb = mothPos < lb\n",
        "    mothPos = mothPos * np.logical_not(flag4ub + flag4lb) + ub*flag4ub + lb*flag4lb\n",
        "\n",
        "    # Calculate the fitness of moths\n",
        "    mothFit = fobj(mothPos)\n",
        "\n",
        "    if iter == 0:\n",
        "      # Sort the first population of moths\n",
        "      order = mothFit.argsort()\n",
        "      mothFit = mothFit[order[::1]]\n",
        "      mothPos = mothPos[order[::1], :]\n",
        "      \n",
        "      # Update the flames\n",
        "      bFlames = mothPos\n",
        "      bFlamesFit = mothFit\n",
        "\n",
        "    else:\n",
        "      # Sort the moths\n",
        "      doublePop = np.vstack((previousPop, bFlames))\n",
        "      doubleFit = np.hstack((previousFit, bFlamesFit))\n",
        "\n",
        "      order = doubleFit.argsort()\n",
        "      doubleFit = doubleFit[order]\n",
        "      doublePop = doublePop[order, :]\n",
        "      \n",
        "      # Update the flames\n",
        "      bFlames = doublePop[:nsa, :]\n",
        "      bFlamesFit = doubleFit[:nsa]\n",
        "\n",
        "    # Update the position best flame obtained so far\n",
        "    bFlameScore = bFlamesFit[0]\n",
        "    bFlamesPos = bFlames[0, :]\n",
        "\n",
        "    previousPop = mothPos\n",
        "    previousFit = mothFit\n",
        "\n",
        "    # a linearly dicreases from -1 to -2 to calculate t in Eq. (3.12)\n",
        "    a = -1 + iter * ((-1)/max_iter)\n",
        "\n",
        "    # D in Eq. (3.13)\n",
        "    distanceToFlames = np.abs(bFlames - mothPos)\n",
        "    b = 1\n",
        "    t = (a-1)*np.random.rand() + 1\n",
        "    # Update the position of the moth with respect to its corresponsing flame if\n",
        "    # the moth position is less than the number of flames calculated, otherwise\n",
        "    # update the position of the moth with resepct to the last flame\n",
        "    bFlames = bFlames[:flameNo, :]\n",
        "    temp = bFlames[flameNo-1, :]*np.ones(shape=(nsa-flameNo, dim))\n",
        "    bFlames = np.vstack((bFlames, temp))\n",
        "    mothPos = distanceToFlames * np.exp(b*t)*np.cos(t*2*np.pi) + bFlames\n",
        "\n",
        "    convergenceCurve[iter] = bFlameScore\n",
        "\n",
        "  return bFlameScore, bFlamesPos, convergenceCurve"
      ],
      "execution_count": 0,
      "outputs": []
    },
    {
      "metadata": {
        "id": "xyCxBbPHFdg_",
        "colab_type": "text"
      },
      "cell_type": "markdown",
      "source": [
        "Defining the objective function"
      ]
    },
    {
      "metadata": {
        "id": "5Z0OYSdiFjv-",
        "colab_type": "code",
        "colab": {}
      },
      "cell_type": "code",
      "source": [
        "def F1(x):\n",
        "  ''' F1 function as defined in the paper for the test '''\n",
        "  return np.sum(np.power(x, 2), axis=1)\n",
        "\n",
        "def F2(x):\n",
        "  ''' F2 function as defined in the paper for the test '''\n",
        "  return np.sum(np.abs(x), axis=1) + np.prod(np.abs(x), axis=1)"
      ],
      "execution_count": 0,
      "outputs": []
    },
    {
      "metadata": {
        "id": "FC7aRdAoGN45",
        "colab_type": "text"
      },
      "cell_type": "markdown",
      "source": [
        "Testing the optimization function"
      ]
    },
    {
      "metadata": {
        "id": "SbSMRF-kGQ1q",
        "colab_type": "code",
        "outputId": "881cb2ef-7587-4d8b-a6d6-92e04e8b48cc",
        "colab": {
          "base_uri": "https://localhost:8080/",
          "height": 385
        }
      },
      "cell_type": "code",
      "source": [
        "nsa = 30\n",
        "max_iter = 1000\n",
        "\n",
        "lb = -10\n",
        "ub = 10\n",
        "dim = 10\n",
        "\n",
        "bFlameScore, bFlamesPos, convergenceCurve = MFO(nsa, dim, ub, lb, max_iter, F2)\n",
        "\n",
        "print(bFlameScore)\n",
        "x = np.arange(0, max_iter, 1)\n",
        "plt.plot(x, convergenceCurve)"
      ],
      "execution_count": 0,
      "outputs": [
        {
          "output_type": "stream",
          "text": [
            "0.22834622603365717\n"
          ],
          "name": "stdout"
        },
        {
          "output_type": "execute_result",
          "data": {
            "text/plain": [
              "[<matplotlib.lines.Line2D at 0x7fdee6161fd0>]"
            ]
          },
          "metadata": {
            "tags": []
          },
          "execution_count": 22
        },
        {
          "output_type": "display_data",
          "data": {
            "image/png": "[encoded data removed]",
            "text/plain": [
              "<Figure size 576x396 with 1 Axes>"
            ]
          },
          "metadata": {
            "tags": []
          }
        }
      ]
    }
  ]
}